{
 "cells": [
  {
   "cell_type": "markdown",
   "metadata": {},
   "source": [
    "## Way 1: Running Tempo by specifying paths to the data, result folder, and configuration dictionary storing the parameter values\n",
    "\n",
    "The configuration dictionary path should be a plain text file with a configuration dictionary of the form: {\"{key_1}\" : value_1,...,\"{key_n}\" : values_n}. For any parameters not user-specified in the dictionary, Tempo will use its default parameter values.\n",
    "<br><br>\n",
    "For more details on the inputs accepted by Tempo, please view the tutorial_tempo_inputs notebook\n"
   ]
  },
  {
   "cell_type": "code",
   "execution_count": null,
   "metadata": {},
   "outputs": [],
   "source": [
    "# --- SET REQUIRED INPUTS ---\n",
    "\n",
    "adata_path = 'adata.h5ad'\n",
    "folder_out = 'folder_out'\n",
    "config_dict_path = 'config.txt'\n"
   ]
  },
  {
   "cell_type": "code",
   "execution_count": null,
   "metadata": {},
   "outputs": [],
   "source": [
    "# --- RUN ---\n",
    "import tempo\n",
    "from tempo import run_tempo\n",
    "\n",
    "run_tempo.run(adata_path = 'adata.h5ad', folder_out = 'folder_out', config_dict_path = 'config.txt')\n"
   ]
  },
  {
   "cell_type": "markdown",
   "metadata": {},
   "source": [
    "## Way 2: Running Tempo by supplying individual parameter values\n",
    "<br><br>\n",
    "For more details on the inputs accepted by Tempo, please view the tutorial_tempo_inputs notebook"
   ]
  },
  {
   "cell_type": "code",
   "execution_count": null,
   "metadata": {},
   "outputs": [],
   "source": [
    "# --- SET REQUIRED INPUTS ---\n",
    "import anndata\n",
    "\n",
    "adata = anndata.read_h5ad('adata.h5ad')\n",
    "folder_out = 'folder_out'\n",
    "gene_acrophase_prior_path = 'gene_acrophase_prior.csv'\n",
    "core_clock_gene_path = 'core_clock_genes.txt'\n",
    "reference_gene = 'Gene_0'\n",
    "min_gene_prop = 1e-5\n"
   ]
  },
  {
   "cell_type": "code",
   "execution_count": null,
   "metadata": {},
   "outputs": [],
   "source": [
    "# --- RUN ---\n",
    "import tempo\n",
    "from tempo import unsupervised_alg\n",
    "\n",
    "tempo.unsupervised_alg.run(adata = adata,\n",
    "                          folder_out = folder_out,\n",
    "                          gene_acrophase_prior_path = gene_acrophase_prior_path,\n",
    "                          core_clock_gene_path = core_clock_gene_path,\n",
    "                          reference_gene = reference_gene,\n",
    "                          min_gene_prop = min_gene_prop)\n",
    "\n",
    "\n",
    "\n"
   ]
  }
 ],
 "metadata": {
  "kernelspec": {
   "display_name": "scrublet",
   "language": "python",
   "name": "scrublet"
  },
  "language_info": {
   "codemirror_mode": {
    "name": "ipython",
    "version": 3
   },
   "file_extension": ".py",
   "mimetype": "text/x-python",
   "name": "python",
   "nbconvert_exporter": "python",
   "pygments_lexer": "ipython3",
   "version": "3.8.5"
  }
 },
 "nbformat": 4,
 "nbformat_minor": 4
}
